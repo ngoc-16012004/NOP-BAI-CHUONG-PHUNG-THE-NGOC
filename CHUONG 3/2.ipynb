{
 "cells": [
  {
   "cell_type": "code",
   "execution_count": 12,
   "metadata": {},
   "outputs": [
    {
     "name": "stdout",
     "output_type": "stream",
     "text": [
      "int32\n",
      "[0 1 2 3 4 5 6 7 8 9]\n"
     ]
    }
   ],
   "source": [
    "import numpy as nb\n",
    "a=nb.array([0,1,2,3,4,5,6,7,8,9])\n",
    "print(a.dtype)\n",
    "print(a)\n"
   ]
  },
  {
   "cell_type": "code",
   "execution_count": 13,
   "metadata": {},
   "outputs": [
    {
     "name": "stdout",
     "output_type": "stream",
     "text": [
      "[1, 3, 5, 7, 9]\n",
      "[0, 2, 4, 6, 8]\n"
     ]
    }
   ],
   "source": [
    "arr_odd=[]\n",
    "arr_even=[]\n",
    "for i in a:\n",
    "      if a[i]%2==0:\n",
    "            arr_odd.append(a[i])\n",
    "      else:\n",
    "            arr_even.append(a[i])\n",
    "print(arr_even)\n",
    "print(arr_odd)"
   ]
  },
  {
   "cell_type": "code",
   "execution_count": 14,
   "metadata": {},
   "outputs": [
    {
     "name": "stdout",
     "output_type": "stream",
     "text": [
      "[0, 100, 2, 100, 4, 100, 6, 100, 8, 100]\n"
     ]
    }
   ],
   "source": [
    "a_update=[]\n",
    "for i in a:\n",
    "      if a[i]%2==0:\n",
    "            a_update.append(a[i])\n",
    "      else:\n",
    "            a[i]=100\n",
    "            a_update.append(a[i])\n",
    "\n",
    "print(a_update)"
   ]
  }
 ],
 "metadata": {
  "kernelspec": {
   "display_name": "Python 3",
   "language": "python",
   "name": "python3"
  },
  "language_info": {
   "codemirror_mode": {
    "name": "ipython",
    "version": 3
   },
   "file_extension": ".py",
   "mimetype": "text/x-python",
   "name": "python",
   "nbconvert_exporter": "python",
   "pygments_lexer": "ipython3",
   "version": "3.6.8"
  }
 },
 "nbformat": 4,
 "nbformat_minor": 2
}
