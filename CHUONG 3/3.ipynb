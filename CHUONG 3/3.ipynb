{
 "cells": [
  {
   "cell_type": "code",
   "execution_count": 8,
   "metadata": {},
   "outputs": [],
   "source": [
    "import numpy as np\n",
    "arr_a = [1,2,3,2,3,4,3,4,5,6] \n",
    "arr_b = [7,2,10,2,7,4,9,4,9,8]"
   ]
  },
  {
   "cell_type": "code",
   "execution_count": 9,
   "metadata": {},
   "outputs": [
    {
     "data": {
      "text/plain": [
       "[2, 2, 4, 4]"
      ]
     },
     "execution_count": 9,
     "metadata": {},
     "output_type": "execute_result"
    }
   ],
   "source": [
    "arr_c=[]\n",
    "for i in arr_a:\n",
    "      for j in arr_b:\n",
    "            if i==j:\n",
    "                  arr_c.append(i)\n",
    "                  break \n",
    "arr_c               \n",
    "\n"
   ]
  },
  {
   "cell_type": "code",
   "execution_count": 13,
   "metadata": {},
   "outputs": [
    {
     "data": {
      "text/plain": [
       "[1, 3, 3, 3, 5, 6]"
      ]
     },
     "execution_count": 13,
     "metadata": {},
     "output_type": "execute_result"
    }
   ],
   "source": [
    "arr_d=[]\n",
    "for i in arr_a:\n",
    "      for j in arr_b:\n",
    "            if i==j:\n",
    "                  arr_a.remove(i)\n",
    "            else:\n",
    "                  arr_d.append(i)\n",
    "                  break\n",
    "\n",
    "arr_d\n"
   ]
  },
  {
   "cell_type": "code",
   "execution_count": 19,
   "metadata": {},
   "outputs": [
    {
     "data": {
      "text/plain": [
       "{6, 8, 9, 10}"
      ]
     },
     "execution_count": 19,
     "metadata": {},
     "output_type": "execute_result"
    }
   ],
   "source": [
    "arr_e = np.array([2, 6, 1, 9, 10, 3, 27, 8, 6, 25, 16])\n",
    "arr_f=[]\n",
    "for i in arr_e:\n",
    "      if i in range(4,11):\n",
    "            arr_f.append(i)\n",
    "            \n",
    "a=set(arr_f)\n",
    "a"
   ]
  }
 ],
 "metadata": {
  "kernelspec": {
   "display_name": "Python 3",
   "language": "python",
   "name": "python3"
  },
  "language_info": {
   "codemirror_mode": {
    "name": "ipython",
    "version": 3
   },
   "file_extension": ".py",
   "mimetype": "text/x-python",
   "name": "python",
   "nbconvert_exporter": "python",
   "pygments_lexer": "ipython3",
   "version": "3.6.8"
  }
 },
 "nbformat": 4,
 "nbformat_minor": 2
}
